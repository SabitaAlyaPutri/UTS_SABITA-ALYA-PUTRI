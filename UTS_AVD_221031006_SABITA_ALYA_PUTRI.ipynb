{
  "nbformat": 4,
  "nbformat_minor": 0,
  "metadata": {
    "colab": {
      "provenance": []
    },
    "kernelspec": {
      "name": "python3",
      "display_name": "Python 3"
    },
    "language_info": {
      "name": "python"
    }
  },
  "cells": [
    {
      "cell_type": "code",
      "execution_count": 29,
      "metadata": {
        "id": "JWXoUUdjrY8W"
      },
      "outputs": [],
      "source": [
        "import pandas as pd\n",
        "from google.colab import files\n",
        "import numpy as np\n",
        "import matplotlib.pyplot as plt\n",
        "import sklearn.metrics as metrics"
      ]
    },
    {
      "cell_type": "markdown",
      "source": [
        "Pandas akan digunakan untuk membaca dan memanipulasi dataset (misalnya, membaca file CSV).\n",
        "\n",
        "Google Colab files untuk meng-upload file ke dalam notebook untuk analisis.\n",
        "\n",
        "NumPy akan digunakan untuk operasi numerik atau manipulasi array.\n",
        "\n",
        "Matplotlib akan digunakan untuk membuat visualisasi data atau grafik.\n",
        "\n",
        "Scikit-learn metrics akan digunakan untuk mengevaluasi model machine learning, seperti menghitung akurasi, confusion matrix, dan metrik lainnya."
      ],
      "metadata": {
        "id": "PV6VFw-uTT_v"
      }
    },
    {
      "cell_type": "code",
      "source": [
        "# Upload file dari komputer\n",
        "uploaded = files.upload()\n",
        "\n",
        "# Ambil nama file (otomatis dari file yang di-upload)\n",
        "file_name = list(uploaded.keys())[0]\n",
        "\n",
        "# Baca file\n",
        "row_data = pd.read_csv(file_name)\n",
        "\n",
        "# Tampilkan 5 baris pertama\n",
        "print(row_data.head())\n",
        "\n",
        "# Tampilkan ukuran data\n",
        "print(\"Ukuran data:\", row_data.shape)"
      ],
      "metadata": {
        "colab": {
          "base_uri": "https://localhost:8080/",
          "height": 316
        },
        "id": "mhexbawC8cEj",
        "outputId": "b90af5e7-5c73-46f9-f219-98f56c298a15"
      },
      "execution_count": 30,
      "outputs": [
        {
          "output_type": "display_data",
          "data": {
            "text/plain": [
              "<IPython.core.display.HTML object>"
            ],
            "text/html": [
              "\n",
              "     <input type=\"file\" id=\"files-34c9f69f-8302-4e5d-91cd-5e7c6a40b4a4\" name=\"files[]\" multiple disabled\n",
              "        style=\"border:none\" />\n",
              "     <output id=\"result-34c9f69f-8302-4e5d-91cd-5e7c6a40b4a4\">\n",
              "      Upload widget is only available when the cell has been executed in the\n",
              "      current browser session. Please rerun this cell to enable.\n",
              "      </output>\n",
              "      <script>// Copyright 2017 Google LLC\n",
              "//\n",
              "// Licensed under the Apache License, Version 2.0 (the \"License\");\n",
              "// you may not use this file except in compliance with the License.\n",
              "// You may obtain a copy of the License at\n",
              "//\n",
              "//      http://www.apache.org/licenses/LICENSE-2.0\n",
              "//\n",
              "// Unless required by applicable law or agreed to in writing, software\n",
              "// distributed under the License is distributed on an \"AS IS\" BASIS,\n",
              "// WITHOUT WARRANTIES OR CONDITIONS OF ANY KIND, either express or implied.\n",
              "// See the License for the specific language governing permissions and\n",
              "// limitations under the License.\n",
              "\n",
              "/**\n",
              " * @fileoverview Helpers for google.colab Python module.\n",
              " */\n",
              "(function(scope) {\n",
              "function span(text, styleAttributes = {}) {\n",
              "  const element = document.createElement('span');\n",
              "  element.textContent = text;\n",
              "  for (const key of Object.keys(styleAttributes)) {\n",
              "    element.style[key] = styleAttributes[key];\n",
              "  }\n",
              "  return element;\n",
              "}\n",
              "\n",
              "// Max number of bytes which will be uploaded at a time.\n",
              "const MAX_PAYLOAD_SIZE = 100 * 1024;\n",
              "\n",
              "function _uploadFiles(inputId, outputId) {\n",
              "  const steps = uploadFilesStep(inputId, outputId);\n",
              "  const outputElement = document.getElementById(outputId);\n",
              "  // Cache steps on the outputElement to make it available for the next call\n",
              "  // to uploadFilesContinue from Python.\n",
              "  outputElement.steps = steps;\n",
              "\n",
              "  return _uploadFilesContinue(outputId);\n",
              "}\n",
              "\n",
              "// This is roughly an async generator (not supported in the browser yet),\n",
              "// where there are multiple asynchronous steps and the Python side is going\n",
              "// to poll for completion of each step.\n",
              "// This uses a Promise to block the python side on completion of each step,\n",
              "// then passes the result of the previous step as the input to the next step.\n",
              "function _uploadFilesContinue(outputId) {\n",
              "  const outputElement = document.getElementById(outputId);\n",
              "  const steps = outputElement.steps;\n",
              "\n",
              "  const next = steps.next(outputElement.lastPromiseValue);\n",
              "  return Promise.resolve(next.value.promise).then((value) => {\n",
              "    // Cache the last promise value to make it available to the next\n",
              "    // step of the generator.\n",
              "    outputElement.lastPromiseValue = value;\n",
              "    return next.value.response;\n",
              "  });\n",
              "}\n",
              "\n",
              "/**\n",
              " * Generator function which is called between each async step of the upload\n",
              " * process.\n",
              " * @param {string} inputId Element ID of the input file picker element.\n",
              " * @param {string} outputId Element ID of the output display.\n",
              " * @return {!Iterable<!Object>} Iterable of next steps.\n",
              " */\n",
              "function* uploadFilesStep(inputId, outputId) {\n",
              "  const inputElement = document.getElementById(inputId);\n",
              "  inputElement.disabled = false;\n",
              "\n",
              "  const outputElement = document.getElementById(outputId);\n",
              "  outputElement.innerHTML = '';\n",
              "\n",
              "  const pickedPromise = new Promise((resolve) => {\n",
              "    inputElement.addEventListener('change', (e) => {\n",
              "      resolve(e.target.files);\n",
              "    });\n",
              "  });\n",
              "\n",
              "  const cancel = document.createElement('button');\n",
              "  inputElement.parentElement.appendChild(cancel);\n",
              "  cancel.textContent = 'Cancel upload';\n",
              "  const cancelPromise = new Promise((resolve) => {\n",
              "    cancel.onclick = () => {\n",
              "      resolve(null);\n",
              "    };\n",
              "  });\n",
              "\n",
              "  // Wait for the user to pick the files.\n",
              "  const files = yield {\n",
              "    promise: Promise.race([pickedPromise, cancelPromise]),\n",
              "    response: {\n",
              "      action: 'starting',\n",
              "    }\n",
              "  };\n",
              "\n",
              "  cancel.remove();\n",
              "\n",
              "  // Disable the input element since further picks are not allowed.\n",
              "  inputElement.disabled = true;\n",
              "\n",
              "  if (!files) {\n",
              "    return {\n",
              "      response: {\n",
              "        action: 'complete',\n",
              "      }\n",
              "    };\n",
              "  }\n",
              "\n",
              "  for (const file of files) {\n",
              "    const li = document.createElement('li');\n",
              "    li.append(span(file.name, {fontWeight: 'bold'}));\n",
              "    li.append(span(\n",
              "        `(${file.type || 'n/a'}) - ${file.size} bytes, ` +\n",
              "        `last modified: ${\n",
              "            file.lastModifiedDate ? file.lastModifiedDate.toLocaleDateString() :\n",
              "                                    'n/a'} - `));\n",
              "    const percent = span('0% done');\n",
              "    li.appendChild(percent);\n",
              "\n",
              "    outputElement.appendChild(li);\n",
              "\n",
              "    const fileDataPromise = new Promise((resolve) => {\n",
              "      const reader = new FileReader();\n",
              "      reader.onload = (e) => {\n",
              "        resolve(e.target.result);\n",
              "      };\n",
              "      reader.readAsArrayBuffer(file);\n",
              "    });\n",
              "    // Wait for the data to be ready.\n",
              "    let fileData = yield {\n",
              "      promise: fileDataPromise,\n",
              "      response: {\n",
              "        action: 'continue',\n",
              "      }\n",
              "    };\n",
              "\n",
              "    // Use a chunked sending to avoid message size limits. See b/62115660.\n",
              "    let position = 0;\n",
              "    do {\n",
              "      const length = Math.min(fileData.byteLength - position, MAX_PAYLOAD_SIZE);\n",
              "      const chunk = new Uint8Array(fileData, position, length);\n",
              "      position += length;\n",
              "\n",
              "      const base64 = btoa(String.fromCharCode.apply(null, chunk));\n",
              "      yield {\n",
              "        response: {\n",
              "          action: 'append',\n",
              "          file: file.name,\n",
              "          data: base64,\n",
              "        },\n",
              "      };\n",
              "\n",
              "      let percentDone = fileData.byteLength === 0 ?\n",
              "          100 :\n",
              "          Math.round((position / fileData.byteLength) * 100);\n",
              "      percent.textContent = `${percentDone}% done`;\n",
              "\n",
              "    } while (position < fileData.byteLength);\n",
              "  }\n",
              "\n",
              "  // All done.\n",
              "  yield {\n",
              "    response: {\n",
              "      action: 'complete',\n",
              "    }\n",
              "  };\n",
              "}\n",
              "\n",
              "scope.google = scope.google || {};\n",
              "scope.google.colab = scope.google.colab || {};\n",
              "scope.google.colab._files = {\n",
              "  _uploadFiles,\n",
              "  _uploadFilesContinue,\n",
              "};\n",
              "})(self);\n",
              "</script> "
            ]
          },
          "metadata": {}
        },
        {
          "output_type": "stream",
          "name": "stdout",
          "text": [
            "Saving bmw.csv to bmw (1).csv\n",
            "       model  year  price transmission  mileage fuelType  tax   mpg  \\\n",
            "0   5 Series  2014  11200    Automatic    67068   Diesel  125  57.6   \n",
            "1   6 Series  2018  27000    Automatic    14827   Petrol  145  42.8   \n",
            "2   5 Series  2016  16000    Automatic    62794   Diesel  160  51.4   \n",
            "3   1 Series  2017  12750    Automatic    26676   Diesel  145  72.4   \n",
            "4   7 Series  2014  14500    Automatic    39554   Diesel  160  50.4   \n",
            "\n",
            "   engineSize  \n",
            "0         2.0  \n",
            "1         2.0  \n",
            "2         3.0  \n",
            "3         1.5  \n",
            "4         3.0  \n",
            "Ukuran data: (10781, 9)\n"
          ]
        }
      ]
    },
    {
      "cell_type": "code",
      "source": [
        "# Melihat statistik deskriptif dari dataset (tanpa tanda kurung berarti tidak akan dieksekusi, hanya menunjukkan properti)\n",
        "row_data.describe\n",
        "\n",
        "# Menghapus baris yang memiliki nilai kosong (NaN)\n",
        "data = row_data.dropna(axis=0) # axis=0 berarti hapus baris (bukan kolom)\n",
        "\n",
        "# Menampilkan statistik deskriptif dari data yang sudah bersih (tanpa NaN)\n",
        "data.describe()"
      ],
      "metadata": {
        "colab": {
          "base_uri": "https://localhost:8080/",
          "height": 300
        },
        "id": "zmfzeCF49P4S",
        "outputId": "1dbc2b29-3640-4169-87a0-fd9fdd0729ff"
      },
      "execution_count": 31,
      "outputs": [
        {
          "output_type": "execute_result",
          "data": {
            "text/plain": [
              "               year          price        mileage           tax           mpg  \\\n",
              "count  10781.000000   10781.000000   10781.000000  10781.000000  10781.000000   \n",
              "mean    2017.078935   22733.408867   25496.986550    131.702068     56.399035   \n",
              "std        2.349038   11415.528189   25143.192559     61.510755     31.336958   \n",
              "min     1996.000000    1200.000000       1.000000      0.000000      5.500000   \n",
              "25%     2016.000000   14950.000000    5529.000000    135.000000     45.600000   \n",
              "50%     2017.000000   20462.000000   18347.000000    145.000000     53.300000   \n",
              "75%     2019.000000   27940.000000   38206.000000    145.000000     62.800000   \n",
              "max     2020.000000  123456.000000  214000.000000    580.000000    470.800000   \n",
              "\n",
              "         engineSize  \n",
              "count  10781.000000  \n",
              "mean       2.167767  \n",
              "std        0.552054  \n",
              "min        0.000000  \n",
              "25%        2.000000  \n",
              "50%        2.000000  \n",
              "75%        2.000000  \n",
              "max        6.600000  "
            ],
            "text/html": [
              "\n",
              "  <div id=\"df-c8fa0f38-53a1-4e65-be6a-2e88645ed2da\" class=\"colab-df-container\">\n",
              "    <div>\n",
              "<style scoped>\n",
              "    .dataframe tbody tr th:only-of-type {\n",
              "        vertical-align: middle;\n",
              "    }\n",
              "\n",
              "    .dataframe tbody tr th {\n",
              "        vertical-align: top;\n",
              "    }\n",
              "\n",
              "    .dataframe thead th {\n",
              "        text-align: right;\n",
              "    }\n",
              "</style>\n",
              "<table border=\"1\" class=\"dataframe\">\n",
              "  <thead>\n",
              "    <tr style=\"text-align: right;\">\n",
              "      <th></th>\n",
              "      <th>year</th>\n",
              "      <th>price</th>\n",
              "      <th>mileage</th>\n",
              "      <th>tax</th>\n",
              "      <th>mpg</th>\n",
              "      <th>engineSize</th>\n",
              "    </tr>\n",
              "  </thead>\n",
              "  <tbody>\n",
              "    <tr>\n",
              "      <th>count</th>\n",
              "      <td>10781.000000</td>\n",
              "      <td>10781.000000</td>\n",
              "      <td>10781.000000</td>\n",
              "      <td>10781.000000</td>\n",
              "      <td>10781.000000</td>\n",
              "      <td>10781.000000</td>\n",
              "    </tr>\n",
              "    <tr>\n",
              "      <th>mean</th>\n",
              "      <td>2017.078935</td>\n",
              "      <td>22733.408867</td>\n",
              "      <td>25496.986550</td>\n",
              "      <td>131.702068</td>\n",
              "      <td>56.399035</td>\n",
              "      <td>2.167767</td>\n",
              "    </tr>\n",
              "    <tr>\n",
              "      <th>std</th>\n",
              "      <td>2.349038</td>\n",
              "      <td>11415.528189</td>\n",
              "      <td>25143.192559</td>\n",
              "      <td>61.510755</td>\n",
              "      <td>31.336958</td>\n",
              "      <td>0.552054</td>\n",
              "    </tr>\n",
              "    <tr>\n",
              "      <th>min</th>\n",
              "      <td>1996.000000</td>\n",
              "      <td>1200.000000</td>\n",
              "      <td>1.000000</td>\n",
              "      <td>0.000000</td>\n",
              "      <td>5.500000</td>\n",
              "      <td>0.000000</td>\n",
              "    </tr>\n",
              "    <tr>\n",
              "      <th>25%</th>\n",
              "      <td>2016.000000</td>\n",
              "      <td>14950.000000</td>\n",
              "      <td>5529.000000</td>\n",
              "      <td>135.000000</td>\n",
              "      <td>45.600000</td>\n",
              "      <td>2.000000</td>\n",
              "    </tr>\n",
              "    <tr>\n",
              "      <th>50%</th>\n",
              "      <td>2017.000000</td>\n",
              "      <td>20462.000000</td>\n",
              "      <td>18347.000000</td>\n",
              "      <td>145.000000</td>\n",
              "      <td>53.300000</td>\n",
              "      <td>2.000000</td>\n",
              "    </tr>\n",
              "    <tr>\n",
              "      <th>75%</th>\n",
              "      <td>2019.000000</td>\n",
              "      <td>27940.000000</td>\n",
              "      <td>38206.000000</td>\n",
              "      <td>145.000000</td>\n",
              "      <td>62.800000</td>\n",
              "      <td>2.000000</td>\n",
              "    </tr>\n",
              "    <tr>\n",
              "      <th>max</th>\n",
              "      <td>2020.000000</td>\n",
              "      <td>123456.000000</td>\n",
              "      <td>214000.000000</td>\n",
              "      <td>580.000000</td>\n",
              "      <td>470.800000</td>\n",
              "      <td>6.600000</td>\n",
              "    </tr>\n",
              "  </tbody>\n",
              "</table>\n",
              "</div>\n",
              "    <div class=\"colab-df-buttons\">\n",
              "\n",
              "  <div class=\"colab-df-container\">\n",
              "    <button class=\"colab-df-convert\" onclick=\"convertToInteractive('df-c8fa0f38-53a1-4e65-be6a-2e88645ed2da')\"\n",
              "            title=\"Convert this dataframe to an interactive table.\"\n",
              "            style=\"display:none;\">\n",
              "\n",
              "  <svg xmlns=\"http://www.w3.org/2000/svg\" height=\"24px\" viewBox=\"0 -960 960 960\">\n",
              "    <path d=\"M120-120v-720h720v720H120Zm60-500h600v-160H180v160Zm220 220h160v-160H400v160Zm0 220h160v-160H400v160ZM180-400h160v-160H180v160Zm440 0h160v-160H620v160ZM180-180h160v-160H180v160Zm440 0h160v-160H620v160Z\"/>\n",
              "  </svg>\n",
              "    </button>\n",
              "\n",
              "  <style>\n",
              "    .colab-df-container {\n",
              "      display:flex;\n",
              "      gap: 12px;\n",
              "    }\n",
              "\n",
              "    .colab-df-convert {\n",
              "      background-color: #E8F0FE;\n",
              "      border: none;\n",
              "      border-radius: 50%;\n",
              "      cursor: pointer;\n",
              "      display: none;\n",
              "      fill: #1967D2;\n",
              "      height: 32px;\n",
              "      padding: 0 0 0 0;\n",
              "      width: 32px;\n",
              "    }\n",
              "\n",
              "    .colab-df-convert:hover {\n",
              "      background-color: #E2EBFA;\n",
              "      box-shadow: 0px 1px 2px rgba(60, 64, 67, 0.3), 0px 1px 3px 1px rgba(60, 64, 67, 0.15);\n",
              "      fill: #174EA6;\n",
              "    }\n",
              "\n",
              "    .colab-df-buttons div {\n",
              "      margin-bottom: 4px;\n",
              "    }\n",
              "\n",
              "    [theme=dark] .colab-df-convert {\n",
              "      background-color: #3B4455;\n",
              "      fill: #D2E3FC;\n",
              "    }\n",
              "\n",
              "    [theme=dark] .colab-df-convert:hover {\n",
              "      background-color: #434B5C;\n",
              "      box-shadow: 0px 1px 3px 1px rgba(0, 0, 0, 0.15);\n",
              "      filter: drop-shadow(0px 1px 2px rgba(0, 0, 0, 0.3));\n",
              "      fill: #FFFFFF;\n",
              "    }\n",
              "  </style>\n",
              "\n",
              "    <script>\n",
              "      const buttonEl =\n",
              "        document.querySelector('#df-c8fa0f38-53a1-4e65-be6a-2e88645ed2da button.colab-df-convert');\n",
              "      buttonEl.style.display =\n",
              "        google.colab.kernel.accessAllowed ? 'block' : 'none';\n",
              "\n",
              "      async function convertToInteractive(key) {\n",
              "        const element = document.querySelector('#df-c8fa0f38-53a1-4e65-be6a-2e88645ed2da');\n",
              "        const dataTable =\n",
              "          await google.colab.kernel.invokeFunction('convertToInteractive',\n",
              "                                                    [key], {});\n",
              "        if (!dataTable) return;\n",
              "\n",
              "        const docLinkHtml = 'Like what you see? Visit the ' +\n",
              "          '<a target=\"_blank\" href=https://colab.research.google.com/notebooks/data_table.ipynb>data table notebook</a>'\n",
              "          + ' to learn more about interactive tables.';\n",
              "        element.innerHTML = '';\n",
              "        dataTable['output_type'] = 'display_data';\n",
              "        await google.colab.output.renderOutput(dataTable, element);\n",
              "        const docLink = document.createElement('div');\n",
              "        docLink.innerHTML = docLinkHtml;\n",
              "        element.appendChild(docLink);\n",
              "      }\n",
              "    </script>\n",
              "  </div>\n",
              "\n",
              "\n",
              "<div id=\"df-b3373571-9e27-4422-ad12-f0756d72179d\">\n",
              "  <button class=\"colab-df-quickchart\" onclick=\"quickchart('df-b3373571-9e27-4422-ad12-f0756d72179d')\"\n",
              "            title=\"Suggest charts\"\n",
              "            style=\"display:none;\">\n",
              "\n",
              "<svg xmlns=\"http://www.w3.org/2000/svg\" height=\"24px\"viewBox=\"0 0 24 24\"\n",
              "     width=\"24px\">\n",
              "    <g>\n",
              "        <path d=\"M19 3H5c-1.1 0-2 .9-2 2v14c0 1.1.9 2 2 2h14c1.1 0 2-.9 2-2V5c0-1.1-.9-2-2-2zM9 17H7v-7h2v7zm4 0h-2V7h2v10zm4 0h-2v-4h2v4z\"/>\n",
              "    </g>\n",
              "</svg>\n",
              "  </button>\n",
              "\n",
              "<style>\n",
              "  .colab-df-quickchart {\n",
              "      --bg-color: #E8F0FE;\n",
              "      --fill-color: #1967D2;\n",
              "      --hover-bg-color: #E2EBFA;\n",
              "      --hover-fill-color: #174EA6;\n",
              "      --disabled-fill-color: #AAA;\n",
              "      --disabled-bg-color: #DDD;\n",
              "  }\n",
              "\n",
              "  [theme=dark] .colab-df-quickchart {\n",
              "      --bg-color: #3B4455;\n",
              "      --fill-color: #D2E3FC;\n",
              "      --hover-bg-color: #434B5C;\n",
              "      --hover-fill-color: #FFFFFF;\n",
              "      --disabled-bg-color: #3B4455;\n",
              "      --disabled-fill-color: #666;\n",
              "  }\n",
              "\n",
              "  .colab-df-quickchart {\n",
              "    background-color: var(--bg-color);\n",
              "    border: none;\n",
              "    border-radius: 50%;\n",
              "    cursor: pointer;\n",
              "    display: none;\n",
              "    fill: var(--fill-color);\n",
              "    height: 32px;\n",
              "    padding: 0;\n",
              "    width: 32px;\n",
              "  }\n",
              "\n",
              "  .colab-df-quickchart:hover {\n",
              "    background-color: var(--hover-bg-color);\n",
              "    box-shadow: 0 1px 2px rgba(60, 64, 67, 0.3), 0 1px 3px 1px rgba(60, 64, 67, 0.15);\n",
              "    fill: var(--button-hover-fill-color);\n",
              "  }\n",
              "\n",
              "  .colab-df-quickchart-complete:disabled,\n",
              "  .colab-df-quickchart-complete:disabled:hover {\n",
              "    background-color: var(--disabled-bg-color);\n",
              "    fill: var(--disabled-fill-color);\n",
              "    box-shadow: none;\n",
              "  }\n",
              "\n",
              "  .colab-df-spinner {\n",
              "    border: 2px solid var(--fill-color);\n",
              "    border-color: transparent;\n",
              "    border-bottom-color: var(--fill-color);\n",
              "    animation:\n",
              "      spin 1s steps(1) infinite;\n",
              "  }\n",
              "\n",
              "  @keyframes spin {\n",
              "    0% {\n",
              "      border-color: transparent;\n",
              "      border-bottom-color: var(--fill-color);\n",
              "      border-left-color: var(--fill-color);\n",
              "    }\n",
              "    20% {\n",
              "      border-color: transparent;\n",
              "      border-left-color: var(--fill-color);\n",
              "      border-top-color: var(--fill-color);\n",
              "    }\n",
              "    30% {\n",
              "      border-color: transparent;\n",
              "      border-left-color: var(--fill-color);\n",
              "      border-top-color: var(--fill-color);\n",
              "      border-right-color: var(--fill-color);\n",
              "    }\n",
              "    40% {\n",
              "      border-color: transparent;\n",
              "      border-right-color: var(--fill-color);\n",
              "      border-top-color: var(--fill-color);\n",
              "    }\n",
              "    60% {\n",
              "      border-color: transparent;\n",
              "      border-right-color: var(--fill-color);\n",
              "    }\n",
              "    80% {\n",
              "      border-color: transparent;\n",
              "      border-right-color: var(--fill-color);\n",
              "      border-bottom-color: var(--fill-color);\n",
              "    }\n",
              "    90% {\n",
              "      border-color: transparent;\n",
              "      border-bottom-color: var(--fill-color);\n",
              "    }\n",
              "  }\n",
              "</style>\n",
              "\n",
              "  <script>\n",
              "    async function quickchart(key) {\n",
              "      const quickchartButtonEl =\n",
              "        document.querySelector('#' + key + ' button');\n",
              "      quickchartButtonEl.disabled = true;  // To prevent multiple clicks.\n",
              "      quickchartButtonEl.classList.add('colab-df-spinner');\n",
              "      try {\n",
              "        const charts = await google.colab.kernel.invokeFunction(\n",
              "            'suggestCharts', [key], {});\n",
              "      } catch (error) {\n",
              "        console.error('Error during call to suggestCharts:', error);\n",
              "      }\n",
              "      quickchartButtonEl.classList.remove('colab-df-spinner');\n",
              "      quickchartButtonEl.classList.add('colab-df-quickchart-complete');\n",
              "    }\n",
              "    (() => {\n",
              "      let quickchartButtonEl =\n",
              "        document.querySelector('#df-b3373571-9e27-4422-ad12-f0756d72179d button');\n",
              "      quickchartButtonEl.style.display =\n",
              "        google.colab.kernel.accessAllowed ? 'block' : 'none';\n",
              "    })();\n",
              "  </script>\n",
              "</div>\n",
              "\n",
              "    </div>\n",
              "  </div>\n"
            ],
            "application/vnd.google.colaboratory.intrinsic+json": {
              "type": "dataframe",
              "summary": "{\n  \"name\": \"data\",\n  \"rows\": 8,\n  \"fields\": [\n    {\n      \"column\": \"year\",\n      \"properties\": {\n        \"dtype\": \"number\",\n        \"std\": 3277.657508526725,\n        \"min\": 2.349038136071694,\n        \"max\": 10781.0,\n        \"num_unique_values\": 8,\n        \"samples\": [\n          2017.078935163714,\n          2017.0,\n          10781.0\n        ],\n        \"semantic_type\": \"\",\n        \"description\": \"\"\n      }\n    },\n    {\n      \"column\": \"price\",\n      \"properties\": {\n        \"dtype\": \"number\",\n        \"std\": 38999.09392455326,\n        \"min\": 1200.0,\n        \"max\": 123456.0,\n        \"num_unique_values\": 8,\n        \"samples\": [\n          22733.408867452,\n          20462.0,\n          10781.0\n        ],\n        \"semantic_type\": \"\",\n        \"description\": \"\"\n      }\n    },\n    {\n      \"column\": \"mileage\",\n      \"properties\": {\n        \"dtype\": \"number\",\n        \"std\": 70490.88415093209,\n        \"min\": 1.0,\n        \"max\": 214000.0,\n        \"num_unique_values\": 8,\n        \"samples\": [\n          25496.986550412763,\n          18347.0,\n          10781.0\n        ],\n        \"semantic_type\": \"\",\n        \"description\": \"\"\n      }\n    },\n    {\n      \"column\": \"tax\",\n      \"properties\": {\n        \"dtype\": \"number\",\n        \"std\": 3755.188268505315,\n        \"min\": 0.0,\n        \"max\": 10781.0,\n        \"num_unique_values\": 7,\n        \"samples\": [\n          10781.0,\n          131.70206845376126,\n          145.0\n        ],\n        \"semantic_type\": \"\",\n        \"description\": \"\"\n      }\n    },\n    {\n      \"column\": \"mpg\",\n      \"properties\": {\n        \"dtype\": \"number\",\n        \"std\": 3778.020063168682,\n        \"min\": 5.5,\n        \"max\": 10781.0,\n        \"num_unique_values\": 8,\n        \"samples\": [\n          56.39903533994991,\n          53.3,\n          10781.0\n        ],\n        \"semantic_type\": \"\",\n        \"description\": \"\"\n      }\n    },\n    {\n      \"column\": \"engineSize\",\n      \"properties\": {\n        \"dtype\": \"number\",\n        \"std\": 3810.8858429114543,\n        \"min\": 0.0,\n        \"max\": 10781.0,\n        \"num_unique_values\": 6,\n        \"samples\": [\n          10781.0,\n          2.1677673685186902,\n          6.6\n        ],\n        \"semantic_type\": \"\",\n        \"description\": \"\"\n      }\n    }\n  ]\n}"
            }
          },
          "metadata": {},
          "execution_count": 31
        }
      ]
    },
    {
      "cell_type": "markdown",
      "source": [
        "*   Count: jumlah baris data yang valid (tidak kosong) untuk tiap kolom numerik\n",
        "*   Mean: rata-rata nilai.\n",
        "*   Std: standar deviasi (penyebaran data).\n",
        "*   Min, 25%, 50%, 75%, max: nilai minimum, kuartil 1, median, kuartil 3, dan maksimum dari tiap kolom.\n",
        "*   Pada kode \"data = row_data.dropna(axis=0)\", yaitu misalnya, jika 2 baris punya nilai kosong pada kolom Price, maka data akan memiliki lebih sedikit baris dibanding row_data\n",
        "*   Pada kode \"data.describe()\", yaitu menghitung statistik setelah data dibersihkan dari nilai kosong → hasil lebih valid.\n"
      ],
      "metadata": {
        "id": "cVPJU63BEj6i"
      }
    },
    {
      "cell_type": "code",
      "source": [
        "# Menampilkan tipe data dari setiap kolom dalam DataFrame\n",
        "print (row_data.dtypes)"
      ],
      "metadata": {
        "colab": {
          "base_uri": "https://localhost:8080/"
        },
        "id": "6huTt5od9g3s",
        "outputId": "60670024-f87a-4287-b4e2-e269a0f2c91a"
      },
      "execution_count": 32,
      "outputs": [
        {
          "output_type": "stream",
          "name": "stdout",
          "text": [
            "model            object\n",
            "year              int64\n",
            "price             int64\n",
            "transmission     object\n",
            "mileage           int64\n",
            "fuelType         object\n",
            "tax               int64\n",
            "mpg             float64\n",
            "engineSize      float64\n",
            "dtype: object\n"
          ]
        }
      ]
    },
    {
      "cell_type": "markdown",
      "source": [
        "Output ini menunjukkan tipe data yang digunakan oleh masing-masing kolom, seperti int64 untuk bilangan bulat, float64 untuk bilangan desimal, dan object untuk tipe data non-numerik, biasanya berupa string atau kategori. Misalnya, kolom Model, FuelType, dan Transmission biasanya bertipe object karena berisi data berupa teks, sementara kolom seperti Year, Mileage, dan Tax bertipe int64 karena berisi angka bulat. Kolom seperti Price, MPG, dan EngineSize bisa bertipe float64 karena berisi angka dengan desimal."
      ],
      "metadata": {
        "id": "mR8XG2cBM99X"
      }
    },
    {
      "cell_type": "code",
      "source": [
        "features = ['year', 'mileage', 'tax', 'mpg', 'engineSize']\n",
        "x = data[features]\n",
        "y = data['price']\n",
        "x.shape, y.shape"
      ],
      "metadata": {
        "colab": {
          "base_uri": "https://localhost:8080/"
        },
        "id": "TV0wSLvR9lEN",
        "outputId": "01fe14f9-ed9a-418e-c339-f4cc0cc6232b"
      },
      "execution_count": 33,
      "outputs": [
        {
          "output_type": "execute_result",
          "data": {
            "text/plain": [
              "((10781, 5), (10781,))"
            ]
          },
          "metadata": {},
          "execution_count": 33
        }
      ]
    },
    {
      "cell_type": "markdown",
      "source": [
        "Kode ini memisahkan data menjadi fitur (`x`) dan target (`y`). Kolom-kolom seperti `year`, `mileage`, `tax`, `mpg`, dan `engineSize` digunakan sebagai fitur (`x`), sementara kolom `price` digunakan sebagai target (`y`). Perintah `x.shape, y.shape` akan menampilkan dimensi dari masing-masing variabel. Misalnya, hasil `(10000, 5), (10000,)` menunjukkan bahwa ada 10.000 data, dengan 5 fitur pada `x`, dan 1 nilai target pada `y` untuk tiap baris. Ini memastikan bahwa setiap data input memiliki pasangan nilai harga yang sesuai."
      ],
      "metadata": {
        "id": "VFiklf_VONaN"
      }
    },
    {
      "cell_type": "code",
      "source": [
        "from sklearn.model_selection import train_test_split\n",
        "train_x, test_x, train_y, test_y = train_test_split(x, y, random_state = 70)"
      ],
      "metadata": {
        "id": "8wisR9b19pqd"
      },
      "execution_count": 34,
      "outputs": []
    },
    {
      "cell_type": "markdown",
      "source": [
        "Kode ini digunakan untuk membagi data menjadi dua bagian: data latih (training) dan data uji (testing). Variabel `x` (fitur) dan `y` (target) dibagi secara acak menjadi `train_x` dan `train_y` untuk melatih model, serta `test_x` dan `test_y` untuk menguji performa model. Parameter `random_state = 70` digunakan agar pembagian data selalu konsisten setiap kali kode dijalankan (hasilnya tidak berubah). Secara default, pembagian ini akan menggunakan 75% data untuk pelatihan dan 25% untuk pengujian. Pembagian ini penting agar model bisa belajar dari sebagian data dan diuji pada data yang belum pernah dilihat sebelumnya."
      ],
      "metadata": {
        "id": "7MoA-8dOOd7U"
      }
    },
    {
      "cell_type": "code",
      "source": [
        "train_y.shape"
      ],
      "metadata": {
        "colab": {
          "base_uri": "https://localhost:8080/"
        },
        "id": "RbqftMvE9x7r",
        "outputId": "71778914-9684-4d41-93c7-98d28de76e4d"
      },
      "execution_count": 35,
      "outputs": [
        {
          "output_type": "execute_result",
          "data": {
            "text/plain": [
              "(8085,)"
            ]
          },
          "metadata": {},
          "execution_count": 35
        }
      ]
    },
    {
      "cell_type": "markdown",
      "source": [
        "Digunakan untuk melihat dimensi atau ukuran dari data train_y, yaitu target (label) yang digunakan untuk melatih model."
      ],
      "metadata": {
        "id": "gODM7WNlO2MS"
      }
    },
    {
      "cell_type": "code",
      "source": [
        "from sklearn.neighbors import KNeighborsRegressor as KNN_Reg\n",
        "from sklearn.metrics import mean_squared_error as mse\n",
        "\n",
        "model = KNN_Reg(n_neighbors = 80)\n",
        "\n",
        "# mentraining model\n",
        "model.fit(train_x, train_y)\n",
        "acc1 = model.score(test_x, test_y)\n",
        "\n",
        "# tes untuk memprediksi\n",
        "test_predict = model.predict(test_x)\n",
        "score = mse(test_predict, test_y)\n",
        "print(' MSE: ', score, '\\n', 'Accuracy: ', acc1)"
      ],
      "metadata": {
        "colab": {
          "base_uri": "https://localhost:8080/"
        },
        "id": "06gGcd1K97Fh",
        "outputId": "eb96d995-9241-4e84-a62c-3367147833b9"
      },
      "execution_count": 36,
      "outputs": [
        {
          "output_type": "stream",
          "name": "stdout",
          "text": [
            " MSE:  69966561.79717006 \n",
            " Accuracy:  0.4782594640746688\n"
          ]
        }
      ]
    },
    {
      "cell_type": "markdown",
      "source": [
        "*   MSE menunjukkan seberapa besar kesalahan rata-rata prediksi (semakin kecil, semakin baik).\n",
        "*   Accuracy (R² score) menunjukkan seberapa baik model menjelaskan data (semakin mendekati 1, semakin bagus). Nilai 0.47 artinya model menjelaskan 47% variasi dalam data target."
      ],
      "metadata": {
        "id": "MXExzC1sPQw8"
      }
    },
    {
      "cell_type": "code",
      "source": [
        "def Elbow(K):\n",
        "  #inisiasi list yang kosong\n",
        "  test_mse =[]\n",
        "\n",
        "  #training model untuk setiap K value\n",
        "  for i in K:\n",
        "    model = KNN_Reg(n_neighbors=i)\n",
        "    model.fit(train_x, train_y)\n",
        "    tmp = model.predict(test_x)\n",
        "    tmp = mse(tmp, test_y)\n",
        "    test_mse.append(tmp)\n",
        "\n",
        "  return test_mse"
      ],
      "metadata": {
        "id": "hbKji8Ix-AmE"
      },
      "execution_count": 37,
      "outputs": []
    },
    {
      "cell_type": "markdown",
      "source": [
        "Fungsi `Elbow(K)` digunakan untuk membantu menentukan nilai `k` (jumlah tetangga) yang optimal dalam algoritma K-Nearest Neighbors Regressor. Fungsi ini menerima daftar nilai `K` sebagai input, lalu melatih model KNN untuk setiap nilai `k` yang diberikan. Untuk setiap model, fungsi menghitung Mean Squared Error (MSE) pada data uji (`test_x`, `test_y`) dan menyimpannya dalam list `test_mse`. Hasil akhirnya adalah list berisi nilai MSE untuk setiap `k`, yang nantinya bisa digunakan untuk membuat grafik \"elbow\" agar kita bisa melihat di mana nilai `k` mulai menghasilkan MSE yang stabil, sebagai indikasi nilai `k` terbaik."
      ],
      "metadata": {
        "id": "YmHb4Rn-QLP1"
      }
    },
    {
      "cell_type": "code",
      "source": [
        "K = range(80, 100)\n",
        "test = Elbow(K)\n",
        "\n",
        "#plotting\n",
        "plt.plot(K,test)\n",
        "plt.xlabel('K Neighbors')\n",
        "plt.ylabel('Mean Squared Error (MSE)')\n",
        "plt.title('Elbow Curve for Test')"
      ],
      "metadata": {
        "colab": {
          "base_uri": "https://localhost:8080/",
          "height": 489
        },
        "id": "Wo3IrwJe-EfF",
        "outputId": "500faf0c-c8b6-4c05-f11e-b0a1051c6c8b"
      },
      "execution_count": 38,
      "outputs": [
        {
          "output_type": "execute_result",
          "data": {
            "text/plain": [
              "Text(0.5, 1.0, 'Elbow Curve for Test')"
            ]
          },
          "metadata": {},
          "execution_count": 38
        },
        {
          "output_type": "display_data",
          "data": {
            "text/plain": [
              "<Figure size 640x480 with 1 Axes>"
            ],
            "image/png": "[encoded data removed]"
          },
          "metadata": {}
        }
      ]
    },
    {
      "cell_type": "markdown",
      "source": [
        "Rentang nilai k yang diuji adalah antara 80 hingga 99, dan setiap nilai k dihitung berdasarkan Mean Squared Error (MSE) untuk mengukur kualitas prediksi model. Fungsi Elbow(K) digunakan untuk mendapatkan MSE pada setiap nilai k. Hasilnya kemudian dipetakan ke dalam sebuah grafik, di mana sumbu X mewakili jumlah tetangga terdekat (k) dan sumbu Y mewakili nilai MSE. Grafik ini digunakan untuk mengidentifikasi titik \"tekukan\" atau elbow pada kurva, yaitu titik di mana penurunan MSE mulai melambat. Titik ini dianggap sebagai nilai k terbaik karena menunjukkan keseimbangan antara akurasi model dan kompleksitas yang lebih rendah."
      ],
      "metadata": {
        "id": "bEcKQu8wQWf-"
      }
    },
    {
      "cell_type": "code",
      "source": [
        "new_model = KNN_Reg(n_neighbors=97)\n",
        "\n",
        "# Train model\n",
        "new_model.fit(train_x, train_y)\n",
        "acc2 = new_model.score(test_x, test_y)\n",
        "\n",
        "# Prediksi test\n",
        "print(' Akurasi model baru (%):', acc2*100, '\\n', 'Akurasi model lama (%):', acc1*100, '\\n Peningkatan (%):', (acc2-acc1)*100)"
      ],
      "metadata": {
        "colab": {
          "base_uri": "https://localhost:8080/"
        },
        "id": "8zSOcYYu-JkN",
        "outputId": "2fcd845f-ac80-4c8d-9240-b66a7520041a"
      },
      "execution_count": 39,
      "outputs": [
        {
          "output_type": "stream",
          "name": "stdout",
          "text": [
            " Akurasi model baru (%): 47.686221283317856 \n",
            " Akurasi model lama (%): 47.82594640746688 \n",
            " Peningkatan (%): -0.13972512414902605\n"
          ]
        }
      ]
    },
    {
      "cell_type": "markdown",
      "source": [
        "*   Akurasi model baru: 47.69%\n",
        "\n",
        "Model baru (dengan k=97) memiliki akurasi sekitar 47.69% saat diuji pada data pengujian. Ini berarti model berhasil memprediksi sekitar 47.69% dari hasil yang benar berdasarkan data uji.\n",
        "*   Akurasi model lama: 47.83%\n",
        "\n",
        "\n",
        "Model lama memiliki akurasi 47.83%, yang sedikit lebih tinggi dibandingkan dengan model baru.\n",
        "*   Peningkatan (%): -0.14%\n",
        "\n",
        "\n",
        "Peningkatan akurasi dihitung sebagai perbedaan antara akurasi model baru dan model lama, yaitu (acc2 - acc1) * 100. Dalam hal ini, nilai perbedaannya adalah negatif (-0.14%), yang berarti model baru sedikit lebih buruk dibandingkan model lama. Jadi, ada penurunan akurasi sebesar 0.14%.\n",
        "\n"
      ],
      "metadata": {
        "id": "5BIrjqghSFkg"
      }
    }
  ]
}